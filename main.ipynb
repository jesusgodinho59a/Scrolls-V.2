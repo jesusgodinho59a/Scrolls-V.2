{
 "cells": [
  {
   "cell_type": "code",
   "execution_count": 1,
   "metadata": {},
   "outputs": [],
   "source": [
    "from dependencies.scroll_1 import Manager_Scroll_1\n",
    "from dependencies.scroll_2 import Manager_Scroll_2\n",
    "from dependencies.scroll_3 import Manager_Scroll_3\n",
    "\n",
    "country                 = \"GB\"\n",
    "geo_level               = \"district\"\n",
    "geo_label               = \"location - postal area\"\n",
    "dimensions_width_cm     = 100\n",
    "dimensions_height_cm    = 150 \n",
    "client_data_filepath    = './client_data/GB_client_data.csv'\n",
    "client_name             = \"Home - Carhartt\"\n",
    "chrome_driver_filepath  = \"./dependencies/chrome_driver/chromedriver.exe\""
   ]
  },
  {
   "cell_type": "code",
   "execution_count": 2,
   "metadata": {},
   "outputs": [
    {
     "name": "stdout",
     "output_type": "stream",
     "text": [
      "Info: Plotting Map\n"
     ]
    },
    {
     "name": "stderr",
     "output_type": "stream",
     "text": [
      "c:\\Users\\Work_\\anaconda3\\envs\\client_scrolls\\lib\\site-packages\\mapclassify\\classifiers.py:1860: UserWarning: Numba not installed. Using slow pure python version.\n",
      "  warnings.warn(\n"
     ]
    },
    {
     "name": "stdout",
     "output_type": "stream",
     "text": [
      "Info: Plotting Grid\n",
      "Info: Saving Scroll-1\n",
      "Info: Processing and exporting file - client_data_grid_referenced.csv\n",
      "Info: File Exported - client_data_grid_referenced.csv\n"
     ]
    }
   ],
   "source": [
    "scroll_1_manager = Manager_Scroll_1(\n",
    "    client_name=client_name,\n",
    "    country=country,\n",
    "    geo_level=geo_level,\n",
    "    geo_label=geo_label,\n",
    "    dimensions_width_cm=dimensions_width_cm,\n",
    "    dimensions_height_cm=dimensions_height_cm,\n",
    "    client_data_filepath=client_data_filepath,\n",
    ")\n",
    "\n",
    "scroll_1_manager.get_scroll_1()"
   ]
  },
  {
   "cell_type": "code",
   "execution_count": 3,
   "metadata": {},
   "outputs": [
    {
     "name": "stdout",
     "output_type": "stream",
     "text": [
      "Info: HTML for Scroll 2 has been generated\n",
      "Info: HTML for Scroll is being rendered in Chrome\n",
      "Info: File download has completed\n",
      "Info: Chrome driver was successfully shut down\n",
      "Info: Scroll is being resized\n",
      "Info: Scroll resized and generated successfully!\n"
     ]
    }
   ],
   "source": [
    "scroll_2_manager = Manager_Scroll_2(\n",
    "    client_name=client_name,\n",
    "    geo_level=geo_level,\n",
    "    geo_label=geo_label,\n",
    "    dimensions_width_cm=dimensions_width_cm,\n",
    "    dimensions_height_cm=dimensions_height_cm,\n",
    "    chrome_driver_filepath=chrome_driver_filepath,\n",
    "    dpi=600\n",
    ")\n",
    "\n",
    "scroll_2_manager.get_scroll_2()"
   ]
  },
  {
   "cell_type": "code",
   "execution_count": 4,
   "metadata": {},
   "outputs": [
    {
     "name": "stdout",
     "output_type": "stream",
     "text": [
      "Info: HTML for Scroll 3 has been generated\n",
      "Info: HTML for Scroll is being rendered in Chrome\n",
      "Info: File download has completed\n",
      "Info: Chrome driver was successfully shut down\n",
      "Info: Scroll is being resized\n",
      "Info: Scroll resized and generated successfully!\n"
     ]
    }
   ],
   "source": [
    "scroll_3_manager = Manager_Scroll_3(\n",
    "    client_name=client_name,\n",
    "    geo_level=geo_level,\n",
    "    geo_label=geo_label,\n",
    "    dimensions_width_cm=dimensions_width_cm,\n",
    "    dimensions_height_cm=dimensions_height_cm,\n",
    "    chrome_driver_filepath=\"./dependencies/chrome_driver/chromedriver.exe\",\n",
    "    dpi=600\n",
    ")\n",
    "\n",
    "scroll_3_manager.get_scroll_3()"
   ]
  },
  {
   "cell_type": "code",
   "execution_count": null,
   "metadata": {},
   "outputs": [],
   "source": []
  }
 ],
 "metadata": {
  "kernelspec": {
   "display_name": "client_scrolls",
   "language": "python",
   "name": "python3"
  },
  "language_info": {
   "codemirror_mode": {
    "name": "ipython",
    "version": 3
   },
   "file_extension": ".py",
   "mimetype": "text/x-python",
   "name": "python",
   "nbconvert_exporter": "python",
   "pygments_lexer": "ipython3",
   "version": "3.10.5"
  }
 },
 "nbformat": 4,
 "nbformat_minor": 2
}
